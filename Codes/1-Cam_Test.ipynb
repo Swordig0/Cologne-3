{
 "cells": [
  {
   "cell_type": "code",
   "execution_count": 1,
   "metadata": {},
   "outputs": [
    {
     "name": "stdout",
     "output_type": "stream",
     "text": [
      "Webcam opened. Press 'ESC' to exit.\n",
      "Exiting...\n"
     ]
    }
   ],
   "source": [
    "import cv2\n",
    "# Open the webcam\n",
    "cap = cv2.VideoCapture(2)\n",
    "if not cap.isOpened():\n",
    "    raise IOError(\"Cannot open the webcam\")\n",
    "\n",
    "print(\"Webcam opened. Press 'ESC' to exit.\")\n",
    "try:\n",
    "    while True:\n",
    "            # Capture frame from the webcam\n",
    "            ret, frame = cap.read()\n",
    "            if not ret:\n",
    "                print(\"Failed to capture frame. Exiting...\")\n",
    "                break\n",
    "\n",
    "            # Show the frame in a window\n",
    "            cv2.imshow(\"Webcam Feed\", frame)\n",
    "\n",
    "            if cv2.waitKey(1) & 0xFF == 27:  # 27 is the ASCII code for ESC\n",
    "                print(\"Exiting...\")\n",
    "                break\n",
    "finally:\n",
    "        # Release resources\n",
    "        cap.release()\n",
    "        cv2.destroyAllWindows()\n"
   ]
  }
 ],
 "metadata": {
  "kernelspec": {
   "display_name": "Python 3",
   "language": "python",
   "name": "python3"
  },
  "language_info": {
   "codemirror_mode": {
    "name": "ipython",
    "version": 3
   },
   "file_extension": ".py",
   "mimetype": "text/x-python",
   "name": "python",
   "nbconvert_exporter": "python",
   "pygments_lexer": "ipython3",
   "version": "3.10.0"
  }
 },
 "nbformat": 4,
 "nbformat_minor": 2
}
